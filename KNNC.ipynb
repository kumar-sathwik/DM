{
 "cells": [
  {
   "cell_type": "code",
   "execution_count": 1,
   "metadata": {},
   "outputs": [
    {
     "name": "stdout",
     "output_type": "stream",
     "text": [
      "2200\n",
      "    N   P   K  temperature   humidity        ph    rainfall label\n",
      "0  90  42  43    20.879744  82.002744  6.502985  202.935536  rice\n",
      "1  85  58  41    21.770462  80.319644  7.038096  226.655537  rice\n",
      "2  60  55  44    23.004459  82.320763  7.840207  263.964248  rice\n",
      "3  74  35  40    26.491096  80.158363  6.980401  242.864034  rice\n",
      "4  78  42  42    20.130175  81.604873  7.628473  262.717340  rice\n",
      "Index(['N', 'P', 'K', 'temperature', 'humidity', 'ph', 'rainfall', 'label'], dtype='object')\n",
      "['rice' 'maize' 'chickpea' 'kidneybeans' 'pigeonpeas' 'mothbeans'\n",
      " 'mungbean' 'blackgram' 'lentil' 'pomegranate' 'banana' 'mango' 'grapes'\n",
      " 'watermelon' 'muskmelon' 'apple' 'orange' 'papaya' 'coconut' 'cotton'\n",
      " 'jute' 'coffee']\n",
      "               0\n",
      "0     watermelon\n",
      "1     watermelon\n",
      "2         grapes\n",
      "3       chickpea\n",
      "4      blackgram\n",
      "..           ...\n",
      "655  pomegranate\n",
      "656       orange\n",
      "657       grapes\n",
      "658       papaya\n",
      "659     chickpea\n",
      "\n",
      "[660 rows x 1 columns]\n"
     ]
    }
   ],
   "source": [
    "import numpy as np\n",
    "import pandas as pd\n",
    "from sklearn.model_selection import train_test_split\n",
    "from sklearn.preprocessing import StandardScaler#to standardize the input in a uniform manner\n",
    "from sklearn.neighbors import KNeighborsClassifier\n",
    "from sklearn import metrics\n",
    "#to test the data we use below 3 variables\n",
    "from sklearn.metrics import accuracy_score \n",
    "import math\n",
    "dataset = pd.read_csv('Crop_recommendation.csv')\n",
    "print(len(dataset))\n",
    "print(dataset.head())\n",
    "print(dataset.keys())\n",
    "print(dataset.label.unique())\n",
    "sc_X= StandardScaler()\n",
    "X = dataset.iloc[:,0:7]#including all rows and including only columns between 0 to 8 excluding 8 independent varaible\n",
    "Y = dataset.iloc[:,7]#dependent variable\n",
    "X_train,X_test,Y_train,Y_test = train_test_split(X,Y,random_state=0,test_size=0.3)\n",
    "classifier = KNeighborsClassifier(n_neighbors = 3,metric = 'euclidean')\n",
    "classifier.fit(X_train, Y_train)\n",
    "y_pred =pd.DataFrame(classifier.predict(X_test))\n",
    "print(y_pred)"
   ]
  },
  {
   "cell_type": "markdown",
   "metadata": {},
   "source": [
    "<center><h1>INTERFACE<h1></center>\n",
    "\n"
   ]
  },
  {
   "cell_type": "code",
   "execution_count": 20,
   "metadata": {},
   "outputs": [
    {
     "name": "stdout",
     "output_type": "stream",
     "text": [
      "Crop is : ['pigeonpeas']\n",
      "Crop is : ['mothbeans']\n"
     ]
    }
   ],
   "source": [
    "\n",
    "dataset.N=dataset.N.astype(int)\n",
    "dataset.P=dataset.P.astype(int)\n",
    "dataset.K=dataset.K.astype(int)\n",
    "dataset.temperature=dataset.temperature.astype(float)\n",
    "dataset.humidity=dataset.humidity.astype(float)\n",
    "dataset.ph=dataset.ph.astype(float)\n",
    "dataset.rainfall=dataset.rainfall.astype(float)\n",
    "\n",
    "\n",
    "from tkinter import*\n",
    "window=Tk()\n",
    "N =IntVar()\n",
    "P =IntVar()\n",
    "K =IntVar()\n",
    "Tem=DoubleVar()\n",
    "Hum=DoubleVar()\n",
    "PH=DoubleVar()\n",
    "Rain =DoubleVar() \n",
    "\n",
    "\n",
    "def submitForm():\n",
    "    a=N.get()\n",
    "    b=P.get()\n",
    "    c=K.get()\n",
    "    d=Tem.get()\n",
    "    e=Hum.get()\n",
    "    f=PH.get()\n",
    "    g=Rain.get()\n",
    "    inp = np.asfarray([[a], [b], [c], [d], [e], [f], [g]])\n",
    "    inp = inp.reshape(1, -1) \n",
    "    print('Crop is :', classifier.predict(inp))\n",
    "    z=classifier.predict(inp)\n",
    "    label2=Label(window,text='Crop is:',font=(\"Helvetica:\",14)).grid(row=12,column=0)\n",
    "    label2=Label(window,text=z,font=(\"Helvetica:\",14)).grid(row=12,column=1)\n",
    "\n",
    "label1=Label(window,text='\\t CROP RECCOMENDATION',font=(\"Helvetica:\",19)).grid(row=0,column=0)\n",
    "\n",
    "    \n",
    "label_Nitrogen=Label(window,text=\" ENTER NITROGEN VALUE: \").grid(row=1,column=0)\n",
    "Nitrogen=Entry(window,textvariable=N).grid(row=1,column=1)\n",
    "\n",
    "label_Phosporous=Label(window,text=\" ENTER PHOSPOROUS VALUE: \").grid(row=2,column=0)\n",
    "Phosporous=Entry(window,textvariable=P).grid(row=2,column=1)\n",
    "\n",
    "label_Potassium=Label(window,text=\"ENTER POTASSIUM VALUE: \").grid(row=3,column=0)\n",
    "Potassium=Entry(window,textvariable=K).grid(row=3,column=1)\n",
    "\n",
    "label_Temperature=Label(window,text=\"ENTER TEMPERATURE\").grid(row=4,column=0)\n",
    "Temperature=Entry(window,textvariable=Tem).grid(row=4,column=1)\n",
    "\n",
    "label_Humidity=Label(window,text=\"ENTER HUMIDITY\").grid(row=5,column=0)\n",
    "Humidity=Entry(window,textvariable=Hum).grid(row=5,column=1)\n",
    "\n",
    "label_PH=Label(window,text=\"ENTER PH VALUE OF SOIL\").grid(row=6,column=0)\n",
    "PH=Entry(window,textvariable=PH)\n",
    "PH.grid(row=6,column=1)\n",
    "\n",
    "label_Rainfall=Label(window,text=\"ENTER RAINFALL VALUE\").grid(row=7,column=0)\n",
    "Rainfall=Entry(window,textvariable=Rain).grid(row=7,column=1)\n",
    "\n",
    "\n",
    "\n",
    "submit=Button(window,text=\"submit\",command=submitForm).grid(row=8,column=0)\n",
    "\n",
    "window.mainloop()"
   ]
  },
  {
   "cell_type": "markdown",
   "metadata": {},
   "source": [
    "<center><h1>PLOTTING</h1></center>"
   ]
  },
  {
   "cell_type": "code",
   "execution_count": 12,
   "metadata": {},
   "outputs": [
    {
     "name": "stdout",
     "output_type": "stream",
     "text": [
      "ERROR RATE:             0\n",
      "0   0.025000\n",
      "1   0.031818\n",
      "2   0.025000\n",
      "3   0.020455\n",
      "4   0.022727\n",
      "5   0.031818\n",
      "6   0.029545\n",
      "7   0.029545\n",
      "8   0.034091\n",
      "9   0.038636\n",
      "10  0.040909\n",
      "11  0.043182\n",
      "12  0.040909\n",
      "13  0.040909\n",
      "14  0.043182\n",
      "15  0.045455\n",
      "16  0.045455\n",
      "17  0.050000\n",
      "18  0.047727\n",
      "19  0.052273\n",
      "20  0.056818\n",
      "21  0.059091\n",
      "22  0.063636\n",
      "23  0.059091\n",
      "24  0.068182\n",
      "25  0.070455\n",
      "26  0.065909\n",
      "27  0.070455\n",
      "28  0.075000\n",
      "29  0.077273\n",
      "30  0.077273\n",
      "31  0.084091\n",
      "32  0.077273\n",
      "33  0.081818\n",
      "34  0.079545\n",
      "35  0.084091\n",
      "36  0.084091\n",
      "37  0.086364\n",
      "38  0.086364\n",
      "ACCURACY RATE:             0\n",
      "0   0.975000\n",
      "1   0.968182\n",
      "2   0.975000\n",
      "3   0.979545\n",
      "4   0.977273\n",
      "5   0.968182\n",
      "6   0.970455\n",
      "7   0.970455\n",
      "8   0.965909\n",
      "9   0.961364\n",
      "10  0.959091\n",
      "11  0.956818\n",
      "12  0.959091\n",
      "13  0.959091\n",
      "14  0.956818\n",
      "15  0.954545\n",
      "16  0.954545\n",
      "17  0.950000\n",
      "18  0.952273\n",
      "19  0.947727\n",
      "20  0.943182\n",
      "21  0.940909\n",
      "22  0.936364\n",
      "23  0.940909\n",
      "24  0.931818\n",
      "25  0.929545\n",
      "26  0.934091\n",
      "27  0.929545\n",
      "28  0.925000\n",
      "29  0.922727\n",
      "30  0.922727\n",
      "31  0.915909\n",
      "32  0.922727\n",
      "33  0.918182\n",
      "34  0.920455\n",
      "35  0.915909\n",
      "36  0.915909\n",
      "37  0.913636\n",
      "38  0.913636\n",
      "F1_SCORE:             0\n",
      "0   0.976849\n",
      "1   0.969917\n",
      "2   0.976500\n",
      "3   0.981176\n",
      "4   0.979132\n",
      "5   0.971072\n",
      "6   0.973157\n",
      "7   0.972992\n",
      "8   0.968839\n",
      "9   0.964126\n",
      "10  0.962218\n",
      "11  0.959647\n",
      "12  0.962218\n",
      "13  0.962568\n",
      "14  0.959909\n",
      "15  0.957950\n",
      "16  0.957950\n",
      "17  0.953542\n",
      "18  0.956020\n",
      "19  0.952009\n",
      "20  0.947059\n",
      "21  0.944711\n",
      "22  0.940283\n",
      "23  0.945437\n",
      "24  0.935954\n",
      "25  0.933060\n",
      "26  0.937404\n",
      "27  0.932927\n",
      "28  0.928999\n",
      "29  0.926407\n",
      "30  0.926407\n",
      "31  0.919282\n",
      "32  0.925783\n",
      "33  0.921733\n",
      "34  0.923770\n",
      "35  0.918392\n",
      "36  0.918362\n",
      "37  0.916253\n",
      "38  0.916288\n"
     ]
    },
    {
     "data": {
      "text/plain": [
       "Text(0, 0.5, 'f1_score Rate')"
      ]
     },
     "execution_count": 12,
     "metadata": {},
     "output_type": "execute_result"
    },
    {
     "data": {
      "image/png": "[encoded data removed]",
      "text/plain": [
       "<Figure size 720x432 with 1 Axes>"
      ]
     },
     "metadata": {
      "needs_background": "light"
     },
     "output_type": "display_data"
    },
    {
     "data": {
      "image/png": "[encoded data removed]",
      "text/plain": [
       "<Figure size 720x288 with 1 Axes>"
      ]
     },
     "metadata": {
      "needs_background": "light"
     },
     "output_type": "display_data"
    },
    {
     "data": {
      "image/png": "[encoded data removed]",
      "text/plain": [
       "<Figure size 720x432 with 1 Axes>"
      ]
     },
     "metadata": {
      "needs_background": "light"
     },
     "output_type": "display_data"
    }
   ],
   "source": [
    "error_rate = []\n",
    "accu=[]\n",
    "Score=[]\n",
    "# Might take some time\n",
    "for i in range(1,40):\n",
    "    knn = KNeighborsClassifier(n_neighbors=i)\n",
    "    knn.fit(X_train,Y_train)\n",
    "    pred_i = knn.predict(X_test)\n",
    "    error_rate.append(np.mean(pred_i != Y_test))\n",
    "    accu.append(accuracy_score(Y_test, pred_i))\n",
    "    Score.append(f1_score(Y_test, pred_i,average=\"macro\"))\n",
    "    \n",
    "        \n",
    "print(\"ERROR RATE: \",pd.DataFrame(error_rate))\n",
    "print(\"ACCURACY RATE: \",pd.DataFrame(accu))\n",
    "print(\"F1_SCORE: \",pd.DataFrame(Score))\n",
    "    \n",
    "plt.figure(figsize=(10,6))\n",
    "plt.plot(range(1,40),error_rate,color='blue', linestyle='dashed', marker='o',\n",
    "         markerfacecolor='red', markersize=10)\n",
    "plt.title('Error Rate vs. K Value')\n",
    "plt.xlabel('K')\n",
    "plt.ylabel('Error Rate')\n",
    "plt.figure(figsize=(10,4))\n",
    "plt.plot(range(1,40),accu,color='blue', linestyle='dashed', marker='o',\n",
    "         markerfacecolor='red', markersize=10)\n",
    "plt.title('Accuracy rate vs. K Value')\n",
    "plt.xlabel('K')\n",
    "plt.ylabel('Acccuracy Rate')\n",
    "plt.ylabel('F1Score Rate')\n",
    "plt.figure(figsize=(10,6))\n",
    "plt.plot(range(1,40),Score,color='blue', linestyle='dashed', marker='o',\n",
    "         markerfacecolor='red', markersize=10)\n",
    "plt.title('f1_score vs. K Value')\n",
    "plt.xlabel('K')\n",
    "plt.ylabel('f1_score Rate')\n",
    "\n"
   ]
  },
  {
   "cell_type": "code",
   "execution_count": null,
   "metadata": {},
   "outputs": [],
   "source": []
  }
 ],
 "metadata": {
  "kernelspec": {
   "display_name": "Python 3",
   "language": "python",
   "name": "python3"
  },
  "language_info": {
   "codemirror_mode": {
    "name": "ipython",
    "version": 3
   },
   "file_extension": ".py",
   "mimetype": "text/x-python",
   "name": "python",
   "nbconvert_exporter": "python",
   "pygments_lexer": "ipython3",
   "version": "3.8.3"
  }
 },
 "nbformat": 4,
 "nbformat_minor": 4
}
